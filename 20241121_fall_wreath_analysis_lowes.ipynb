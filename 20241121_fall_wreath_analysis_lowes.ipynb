{
 "cells": [
  {
   "cell_type": "code",
   "execution_count": 16,
   "id": "63ca26b6-1247-42b7-99a0-53ef7767c72f",
   "metadata": {},
   "outputs": [],
   "source": [
    "import pandas as pd\n",
    "import matplotlib.pyplot as plt"
   ]
  },
  {
   "cell_type": "code",
   "execution_count": 17,
   "id": "b97bad3a-d1c7-4068-8712-c85100e64ae8",
   "metadata": {},
   "outputs": [],
   "source": [
    "import json\n",
    "\n",
    "def load_json(file_path):\n",
    "    try:\n",
    "        with open(file_path, \"r\") as file:\n",
    "            data = pd.read_json(file)\n",
    "            print(f\"Successfully loaded data from {file_path}\")\n",
    "            return data\n",
    "    except FileNotFoundError:\n",
    "        print(f\"Error: File not found at {file_path}\")\n",
    "    except json.JSONDecodeError as e:\n",
    "        print(f\"Error decoding JSON: {e}\")\n",
    "    except Exception as e:\n",
    "        print(f\"An error occurred: {e}\")\n"
   ]
  },
  {
   "cell_type": "code",
   "execution_count": 18,
   "id": "d1250c67-35f3-4e30-8df8-2c9889456c56",
   "metadata": {},
   "outputs": [
    {
     "name": "stdout",
     "output_type": "stream",
     "text": [
      "Successfully loaded data from lowes_crawler/data/lowes/lowes_2024-11-21_08-04-41.json\n"
     ]
    }
   ],
   "source": [
    "df = load_json(\"lowes_crawler/data/lowes/lowes_2024-11-21_08-04-41.json\")"
   ]
  },
  {
   "cell_type": "code",
   "execution_count": 19,
   "id": "3f5657de-1531-411f-a143-de055ddbf160",
   "metadata": {},
   "outputs": [
    {
     "name": "stdout",
     "output_type": "stream",
     "text": [
      "Duplicate item_ids: []\n"
     ]
    }
   ],
   "source": [
    "# Check for duplicate items\n",
    "duplicate_items = df[df[\"item_id\"].duplicated()][\"item_id\"].unique()\n",
    "print(\"Duplicate item_ids:\", duplicate_items)"
   ]
  },
  {
   "cell_type": "code",
   "execution_count": 20,
   "id": "1de86a40-f438-493f-b1ce-68bcd178e01f",
   "metadata": {},
   "outputs": [
    {
     "name": "stdout",
     "output_type": "stream",
     "text": [
      "Null values in dataset:\n"
     ]
    },
    {
     "data": {
      "text/plain": [
       "item_id                 0\n",
       "store_number            0\n",
       "zip_code                0\n",
       "date                    0\n",
       "url                     0\n",
       "model_number            0\n",
       "brand                   2\n",
       "price_hidden_in_cart    0\n",
       "price                   0\n",
       "dtype: int64"
      ]
     },
     "execution_count": 20,
     "metadata": {},
     "output_type": "execute_result"
    }
   ],
   "source": [
    "# Check for null values\n",
    "print(\"Null values in dataset:\")\n",
    "df.isnull().sum()"
   ]
  },
  {
   "cell_type": "code",
   "execution_count": 21,
   "id": "ae619b44-a5df-4d39-b7a1-ac19e486546f",
   "metadata": {},
   "outputs": [],
   "source": [
    "# Handle missing brand values by filling with \"Unknown\"\n",
    "df[\"brand\"] = df[\"brand\"].fillna(\"Unknown\")"
   ]
  },
  {
   "cell_type": "code",
   "execution_count": 22,
   "id": "ea193c14-6abe-4b54-a4ad-56e63a70339e",
   "metadata": {},
   "outputs": [
    {
     "data": {
      "text/plain": [
       "item_id                 0\n",
       "store_number            0\n",
       "zip_code                0\n",
       "date                    0\n",
       "url                     0\n",
       "model_number            0\n",
       "brand                   0\n",
       "price_hidden_in_cart    0\n",
       "price                   0\n",
       "dtype: int64"
      ]
     },
     "execution_count": 22,
     "metadata": {},
     "output_type": "execute_result"
    }
   ],
   "source": [
    "# Confirm null brand values were filled\n",
    "df.isnull().sum()"
   ]
  },
  {
   "cell_type": "code",
   "execution_count": 23,
   "id": "21e27abf-51b6-4b29-afde-66ff050b37ca",
   "metadata": {},
   "outputs": [
    {
     "data": {
      "text/plain": [
       "count    146.000000\n",
       "mean      55.383082\n",
       "std       24.351363\n",
       "min       18.970000\n",
       "25%       37.980000\n",
       "50%       50.540000\n",
       "75%       68.980000\n",
       "max      174.700000\n",
       "Name: price, dtype: float64"
      ]
     },
     "execution_count": 23,
     "metadata": {},
     "output_type": "execute_result"
    }
   ],
   "source": [
    "# Price distribution\n",
    "df[\"price\"].describe()"
   ]
  },
  {
   "cell_type": "code",
   "execution_count": 24,
   "id": "cfa8d87d-a200-4f27-9798-b09f498ebe6c",
   "metadata": {},
   "outputs": [
    {
     "data": {
      "text/html": [
       "<div>\n",
       "<style scoped>\n",
       "    .dataframe tbody tr th:only-of-type {\n",
       "        vertical-align: middle;\n",
       "    }\n",
       "\n",
       "    .dataframe tbody tr th {\n",
       "        vertical-align: top;\n",
       "    }\n",
       "\n",
       "    .dataframe thead th {\n",
       "        text-align: right;\n",
       "    }\n",
       "</style>\n",
       "<table border=\"1\" class=\"dataframe\">\n",
       "  <thead>\n",
       "    <tr style=\"text-align: right;\">\n",
       "      <th></th>\n",
       "      <th>item_id</th>\n",
       "      <th>store_number</th>\n",
       "      <th>zip_code</th>\n",
       "      <th>date</th>\n",
       "      <th>url</th>\n",
       "      <th>model_number</th>\n",
       "      <th>brand</th>\n",
       "      <th>price_hidden_in_cart</th>\n",
       "      <th>price</th>\n",
       "    </tr>\n",
       "  </thead>\n",
       "  <tbody>\n",
       "    <tr>\n",
       "      <th>44</th>\n",
       "      <td>5012907389</td>\n",
       "      <td>416</td>\n",
       "      <td>28278</td>\n",
       "      <td>2024-11-21 13:05:42.471954+00:00</td>\n",
       "      <td>https://www.lowes.com/pd/Puleo-International-2...</td>\n",
       "      <td>305-1390A-W30</td>\n",
       "      <td>Puleo International</td>\n",
       "      <td>False</td>\n",
       "      <td>174.7</td>\n",
       "    </tr>\n",
       "    <tr>\n",
       "      <th>103</th>\n",
       "      <td>5012907183</td>\n",
       "      <td>416</td>\n",
       "      <td>28278</td>\n",
       "      <td>2024-11-21 13:06:58.348723+00:00</td>\n",
       "      <td>https://www.lowes.com/pd/Puleo-International-2...</td>\n",
       "      <td>305-1291A-W30</td>\n",
       "      <td>Puleo International</td>\n",
       "      <td>False</td>\n",
       "      <td>174.7</td>\n",
       "    </tr>\n",
       "  </tbody>\n",
       "</table>\n",
       "</div>"
      ],
      "text/plain": [
       "        item_id  store_number  zip_code                             date  \\\n",
       "44   5012907389           416     28278 2024-11-21 13:05:42.471954+00:00   \n",
       "103  5012907183           416     28278 2024-11-21 13:06:58.348723+00:00   \n",
       "\n",
       "                                                   url   model_number  \\\n",
       "44   https://www.lowes.com/pd/Puleo-International-2...  305-1390A-W30   \n",
       "103  https://www.lowes.com/pd/Puleo-International-2...  305-1291A-W30   \n",
       "\n",
       "                   brand  price_hidden_in_cart  price  \n",
       "44   Puleo International                 False  174.7  \n",
       "103  Puleo International                 False  174.7  "
      ]
     },
     "execution_count": 24,
     "metadata": {},
     "output_type": "execute_result"
    }
   ],
   "source": [
    "# Identify Price Outliers\n",
    "Q1 = df[\"price\"].quantile(0.25)\n",
    "Q3 = df[\"price\"].quantile(0.75)\n",
    "IQR = Q3 - Q1\n",
    "\n",
    "df[(df[\"price\"] < (Q1 - 1.5 * IQR)) | (df[\"price\"] > (Q3 + 1.5 * IQR))]"
   ]
  },
  {
   "cell_type": "code",
   "execution_count": 25,
   "id": "045ce4f6-039c-4dd6-b53c-7168ffe149aa",
   "metadata": {},
   "outputs": [
    {
     "name": "stdout",
     "output_type": "stream",
     "text": [
      "Wreaths by Brand:\n",
      "\n"
     ]
    },
    {
     "data": {
      "text/plain": [
       "brand\n",
       "Nearly Natural           40\n",
       "Northlight               35\n",
       "Worth Imports            35\n",
       "National Tree Company    14\n",
       "Sullivans                 9\n",
       "Glitzhome                 4\n",
       "Gerson International      2\n",
       "Puleo International       2\n",
       "Haute Decor               2\n",
       "Unknown                   2\n",
       "Fraser Hill Farm          1\n",
       "Name: count, dtype: int64"
      ]
     },
     "execution_count": 25,
     "metadata": {},
     "output_type": "execute_result"
    }
   ],
   "source": [
    "# How many wreaths are there by brand?\n",
    "print(\"Wreaths by Brand:\\n\")\n",
    "df[\"brand\"].value_counts()"
   ]
  },
  {
   "cell_type": "code",
   "execution_count": 26,
   "id": "0e13a58c-b489-4cd3-9b69-737dc620f27c",
   "metadata": {},
   "outputs": [
    {
     "name": "stdout",
     "output_type": "stream",
     "text": [
      "Wreaths price range: $18.97 - $174.7\n"
     ]
    }
   ],
   "source": [
    "# What is the price range for wreaths?\n",
    "wreaths_price_range_min = df[\"price\"].min()\n",
    "wreaths_price_range_max = df[\"price\"].max()\n",
    "print(f\"Wreaths price range: ${wreaths_price_range_min} - ${wreaths_price_range_max}\")"
   ]
  },
  {
   "cell_type": "code",
   "execution_count": 27,
   "id": "9967d235-9ac0-4d59-b86b-747dfd4488b4",
   "metadata": {},
   "outputs": [
    {
     "name": "stdout",
     "output_type": "stream",
     "text": [
      "Price Range of Wreaths by Brand\n"
     ]
    },
    {
     "data": {
      "text/html": [
       "<div>\n",
       "<style scoped>\n",
       "    .dataframe tbody tr th:only-of-type {\n",
       "        vertical-align: middle;\n",
       "    }\n",
       "\n",
       "    .dataframe tbody tr th {\n",
       "        vertical-align: top;\n",
       "    }\n",
       "\n",
       "    .dataframe thead th {\n",
       "        text-align: right;\n",
       "    }\n",
       "</style>\n",
       "<table border=\"1\" class=\"dataframe\">\n",
       "  <thead>\n",
       "    <tr style=\"text-align: right;\">\n",
       "      <th></th>\n",
       "      <th>min</th>\n",
       "      <th>max</th>\n",
       "    </tr>\n",
       "    <tr>\n",
       "      <th>brand</th>\n",
       "      <th></th>\n",
       "      <th></th>\n",
       "    </tr>\n",
       "  </thead>\n",
       "  <tbody>\n",
       "    <tr>\n",
       "      <th>Fraser Hill Farm</th>\n",
       "      <td>40.16</td>\n",
       "      <td>40.16</td>\n",
       "    </tr>\n",
       "    <tr>\n",
       "      <th>Gerson International</th>\n",
       "      <td>45.00</td>\n",
       "      <td>53.98</td>\n",
       "    </tr>\n",
       "    <tr>\n",
       "      <th>Glitzhome</th>\n",
       "      <td>30.48</td>\n",
       "      <td>63.98</td>\n",
       "    </tr>\n",
       "    <tr>\n",
       "      <th>Haute Decor</th>\n",
       "      <td>69.99</td>\n",
       "      <td>69.99</td>\n",
       "    </tr>\n",
       "    <tr>\n",
       "      <th>National Tree Company</th>\n",
       "      <td>39.98</td>\n",
       "      <td>95.64</td>\n",
       "    </tr>\n",
       "    <tr>\n",
       "      <th>Nearly Natural</th>\n",
       "      <td>30.86</td>\n",
       "      <td>90.77</td>\n",
       "    </tr>\n",
       "    <tr>\n",
       "      <th>Northlight</th>\n",
       "      <td>23.98</td>\n",
       "      <td>95.01</td>\n",
       "    </tr>\n",
       "    <tr>\n",
       "      <th>Puleo International</th>\n",
       "      <td>174.70</td>\n",
       "      <td>174.70</td>\n",
       "    </tr>\n",
       "    <tr>\n",
       "      <th>Sullivans</th>\n",
       "      <td>26.98</td>\n",
       "      <td>80.98</td>\n",
       "    </tr>\n",
       "    <tr>\n",
       "      <th>Unknown</th>\n",
       "      <td>37.99</td>\n",
       "      <td>49.99</td>\n",
       "    </tr>\n",
       "    <tr>\n",
       "      <th>Worth Imports</th>\n",
       "      <td>18.97</td>\n",
       "      <td>109.00</td>\n",
       "    </tr>\n",
       "  </tbody>\n",
       "</table>\n",
       "</div>"
      ],
      "text/plain": [
       "                          min     max\n",
       "brand                                \n",
       "Fraser Hill Farm        40.16   40.16\n",
       "Gerson International    45.00   53.98\n",
       "Glitzhome               30.48   63.98\n",
       "Haute Decor             69.99   69.99\n",
       "National Tree Company   39.98   95.64\n",
       "Nearly Natural          30.86   90.77\n",
       "Northlight              23.98   95.01\n",
       "Puleo International    174.70  174.70\n",
       "Sullivans               26.98   80.98\n",
       "Unknown                 37.99   49.99\n",
       "Worth Imports           18.97  109.00"
      ]
     },
     "execution_count": 27,
     "metadata": {},
     "output_type": "execute_result"
    }
   ],
   "source": [
    "# Price Range by Brand\n",
    "print(\"Price Range of Wreaths by Brand\")\n",
    "df.groupby(\"brand\")[\"price\"].agg([\"min\", \"max\"])"
   ]
  },
  {
   "cell_type": "code",
   "execution_count": 28,
   "id": "4e51a5cd-5e41-4d7f-a5c8-d465b4e238cf",
   "metadata": {},
   "outputs": [
    {
     "name": "stdout",
     "output_type": "stream",
     "text": [
      "Average Price of Wreaths by Brand:\n",
      "\n"
     ]
    },
    {
     "data": {
      "text/plain": [
       "brand\n",
       "Fraser Hill Farm          40.16\n",
       "Gerson International      49.49\n",
       "Glitzhome                 42.53\n",
       "Haute Decor               69.99\n",
       "National Tree Company     60.58\n",
       "Nearly Natural            59.01\n",
       "Northlight                60.30\n",
       "Puleo International      174.70\n",
       "Sullivans                 37.09\n",
       "Unknown                   43.99\n",
       "Worth Imports             44.19\n",
       "Name: price, dtype: float64"
      ]
     },
     "execution_count": 28,
     "metadata": {},
     "output_type": "execute_result"
    }
   ],
   "source": [
    "# What is the average price for wreaths by brand?\n",
    "print(\"Average Price of Wreaths by Brand:\\n\")\n",
    "df.groupby(\"brand\")[\"price\"].mean().round(2)"
   ]
  },
  {
   "cell_type": "code",
   "execution_count": 29,
   "id": "bdafd635-78a2-457a-8060-97fc2e6cf6f4",
   "metadata": {},
   "outputs": [
    {
     "data": {
      "image/png": "[encoded data removed]",
      "text/plain": [
       "<Figure size 640x480 with 1 Axes>"
      ]
     },
     "metadata": {},
     "output_type": "display_data"
    }
   ],
   "source": [
    "# Histogram of product prices\n",
    "plt.hist(df[\"price\"], bins=20, edgecolor=\"black\")\n",
    "plt.title(\"Histogram of Wreath Prices\")\n",
    "plt.xlabel(\"Price\")\n",
    "plt.ylabel(\"Frequency\")\n",
    "plt.show()"
   ]
  },
  {
   "cell_type": "code",
   "execution_count": 30,
   "id": "0e257125-7a34-4342-975a-e9d3df692909",
   "metadata": {},
   "outputs": [
    {
     "name": "stdout",
     "output_type": "stream",
     "text": [
      "Top 5 Most Expensive Wreaths\n"
     ]
    },
    {
     "data": {
      "text/html": [
       "<div>\n",
       "<style scoped>\n",
       "    .dataframe tbody tr th:only-of-type {\n",
       "        vertical-align: middle;\n",
       "    }\n",
       "\n",
       "    .dataframe tbody tr th {\n",
       "        vertical-align: top;\n",
       "    }\n",
       "\n",
       "    .dataframe thead th {\n",
       "        text-align: right;\n",
       "    }\n",
       "</style>\n",
       "<table border=\"1\" class=\"dataframe\">\n",
       "  <thead>\n",
       "    <tr style=\"text-align: right;\">\n",
       "      <th></th>\n",
       "      <th>item_id</th>\n",
       "      <th>brand</th>\n",
       "      <th>price</th>\n",
       "    </tr>\n",
       "  </thead>\n",
       "  <tbody>\n",
       "    <tr>\n",
       "      <th>44</th>\n",
       "      <td>5012907389</td>\n",
       "      <td>Puleo International</td>\n",
       "      <td>174.70</td>\n",
       "    </tr>\n",
       "    <tr>\n",
       "      <th>103</th>\n",
       "      <td>5012907183</td>\n",
       "      <td>Puleo International</td>\n",
       "      <td>174.70</td>\n",
       "    </tr>\n",
       "    <tr>\n",
       "      <th>62</th>\n",
       "      <td>5014595005</td>\n",
       "      <td>Worth Imports</td>\n",
       "      <td>109.00</td>\n",
       "    </tr>\n",
       "    <tr>\n",
       "      <th>122</th>\n",
       "      <td>5013935241</td>\n",
       "      <td>National Tree Company</td>\n",
       "      <td>95.64</td>\n",
       "    </tr>\n",
       "    <tr>\n",
       "      <th>83</th>\n",
       "      <td>5015205625</td>\n",
       "      <td>Northlight</td>\n",
       "      <td>95.01</td>\n",
       "    </tr>\n",
       "  </tbody>\n",
       "</table>\n",
       "</div>"
      ],
      "text/plain": [
       "        item_id                  brand   price\n",
       "44   5012907389    Puleo International  174.70\n",
       "103  5012907183    Puleo International  174.70\n",
       "62   5014595005          Worth Imports  109.00\n",
       "122  5013935241  National Tree Company   95.64\n",
       "83   5015205625             Northlight   95.01"
      ]
     },
     "execution_count": 30,
     "metadata": {},
     "output_type": "execute_result"
    }
   ],
   "source": [
    "# Top 5 Most Expensive Wreaths\n",
    "print(\"Top 5 Most Expensive Wreaths\")\n",
    "df.nlargest(5, \"price\")[[\"item_id\", \"brand\", \"price\"]]"
   ]
  },
  {
   "cell_type": "code",
   "execution_count": null,
   "id": "11a2839d-020e-46f3-a63e-bb61486876c0",
   "metadata": {},
   "outputs": [],
   "source": []
  }
 ],
 "metadata": {
  "kernelspec": {
   "display_name": "Python 3 (ipykernel)",
   "language": "python",
   "name": "python3"
  },
  "language_info": {
   "codemirror_mode": {
    "name": "ipython",
    "version": 3
   },
   "file_extension": ".py",
   "mimetype": "text/x-python",
   "name": "python",
   "nbconvert_exporter": "python",
   "pygments_lexer": "ipython3",
   "version": "3.13.0"
  }
 },
 "nbformat": 4,
 "nbformat_minor": 5
}
